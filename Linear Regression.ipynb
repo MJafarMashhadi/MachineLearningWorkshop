{
 "cells": [
  {
   "cell_type": "markdown",
   "metadata": {},
   "source": [
    "## Single variable regression\n"
   ]
  },
  {
   "cell_type": "code",
   "execution_count": null,
   "metadata": {},
   "outputs": [],
   "source": [
    "from sklearn.linear_model import LinearRegression\n",
    "from sklearn.model_selection import train_test_split\n",
    "import matplotlib.pyplot as plt\n",
    "import numpy as np\n",
    "import pandas as pd\n",
    "%matplotlib inline\n",
    "\n",
    "np.random.seed(1)\n",
    "X = np.arange(0,10)\n",
    "Y = 20 + 2*X + np.random.randn(10)\n",
    "\n",
    "plt.scatter(X, Y);"
   ]
  },
  {
   "cell_type": "markdown",
   "metadata": {},
   "source": [
    "You can visually confirm that there is a linear trend here, so what's the best line that can fit?"
   ]
  },
  {
   "cell_type": "code",
   "execution_count": null,
   "metadata": {},
   "outputs": [],
   "source": [
    "lr = LinearRegression().fit(X.reshape(-1, 1), Y)\n",
    "print(\"Y =\", lr.coef_[0], 'X +', lr.predict([[0]])[0])"
   ]
  },
  {
   "cell_type": "code",
   "execution_count": null,
   "metadata": {},
   "outputs": [],
   "source": [
    "plt.scatter(X, Y);\n",
    "\n",
    "# Testing with some new points\n",
    "Xnew = np.arange(-1, 11, 0.5).reshape(-1, 1)\n",
    "Ynew = lr.predict(Xnew)\n",
    "plt.plot(Xnew, Ynew, color='g')"
   ]
  },
  {
   "cell_type": "markdown",
   "metadata": {},
   "source": [
    "## Going to higher dimensions - Bike sharing\n",
    "\n",
    "This dataset is available on [kaggle](https://www.kaggle.com/lakshmi25npathi/bike-sharing-dataset)"
   ]
  },
  {
   "cell_type": "code",
   "execution_count": null,
   "metadata": {},
   "outputs": [],
   "source": [
    "!mkdir data\n",
    "!wget -O data/bikes.csv https://raw.githubusercontent.com/MJafarMashhadi/MachineLearningWorkshop/master/data/bikes.csv"
   ]
  },
  {
   "cell_type": "code",
   "execution_count": null,
   "metadata": {},
   "outputs": [],
   "source": [
    "df = pd.read_csv('data/bikes.csv')\n",
    "features, target = df.drop(['cnt'], axis=1), df['cnt']\n",
    "\n",
    "df"
   ]
  },
  {
   "cell_type": "code",
   "execution_count": null,
   "metadata": {},
   "outputs": [],
   "source": [
    "for col_name in ('season', 'yr', 'mnth', 'holiday', 'weekday', 'workingday', 'weathersit'):\n",
    "    df[col_name] = df[col_name].astype('category')\n",
    "\n",
    "df.describe().drop(['count'])"
   ]
  },
  {
   "cell_type": "markdown",
   "metadata": {},
   "source": [
    "### Splitting the data and training a regression model"
   ]
  },
  {
   "cell_type": "code",
   "execution_count": null,
   "metadata": {},
   "outputs": [],
   "source": [
    "scores = {'Training': [], 'Test': []}\n",
    "for random_state in np.arange(10, 20):\n",
    "    X_train, X_test, y_train, y_test = train_test_split(features, target, test_size=0.25, random_state=random_state)\n",
    "    lr = LinearRegression().fit(X_train, y_train)\n",
    "\n",
    "    scores['Training'].append(100 * lr.score(X_train, y_train))\n",
    "    scores['Test'].append(100 * lr.score(X_test, y_test))\n",
    "\n",
    "scores = pd.DataFrame(scores)\n",
    "scores.describe().drop(['count'])"
   ]
  },
  {
   "cell_type": "code",
   "execution_count": null,
   "metadata": {},
   "outputs": [],
   "source": []
  }
 ],
 "metadata": {
  "kernelspec": {
   "display_name": "Python 3",
   "language": "python",
   "name": "python3"
  },
  "language_info": {
   "codemirror_mode": {
    "name": "ipython",
    "version": 3
   },
   "file_extension": ".py",
   "mimetype": "text/x-python",
   "name": "python",
   "nbconvert_exporter": "python",
   "pygments_lexer": "ipython3",
   "version": "3.7.0"
  }
 },
 "nbformat": 4,
 "nbformat_minor": 2
}
