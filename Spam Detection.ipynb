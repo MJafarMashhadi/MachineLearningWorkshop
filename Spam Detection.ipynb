{
 "cells": [
  {
   "cell_type": "markdown",
   "metadata": {},
   "source": [
    "## Spam detection\n",
    "\n",
    "We use the famous spam/ham data set of labeled text messages"
   ]
  },
  {
   "cell_type": "code",
   "execution_count": null,
   "metadata": {},
   "outputs": [],
   "source": [
    "!mkdir data\n",
    "!wget -O data/sms.tsv https://raw.githubusercontent.com/MJafarMashhadi/MachineLearningWorkshop/master/data/sms.tsv"
   ]
  },
  {
   "cell_type": "code",
   "execution_count": null,
   "metadata": {
    "scrolled": true
   },
   "outputs": [],
   "source": [
    "import re, string\n",
    "import pandas as pd\n",
    "import numpy as np\n",
    "from sklearn.feature_extraction.text import ENGLISH_STOP_WORDS\n",
    "from nltk.stem.snowball import SnowballStemmer\n",
    "import matplotlib.pyplot as plt \n",
    "%matplotlib inline\n",
    "\n",
    "sms = pd.read_csv('data/sms.tsv', sep='\\t', header=None, names=['label', 'text'])\n",
    "sms['label'] = sms['label'].astype('category')\n",
    "sms"
   ]
  },
  {
   "cell_type": "code",
   "execution_count": null,
   "metadata": {},
   "outputs": [],
   "source": [
    "sms.groupby('label').count()"
   ]
  },
  {
   "cell_type": "code",
   "execution_count": null,
   "metadata": {},
   "outputs": [],
   "source": [
    "print(('\\n'*3).join(sms.loc[sms['label'] == 'spam'].loc[[11, 5, 123, 147, 5566]].text.tolist()))"
   ]
  },
  {
   "cell_type": "markdown",
   "metadata": {},
   "source": [
    "Let's clean the texts up first:\n",
    "* Make everything lowercase\n",
    "* Remove punctuations\n",
    "* Clean up white spaces\n",
    "* Remove stop words **(\\*)**\n",
    "* Stem the words **(\\*)**"
   ]
  },
  {
   "cell_type": "code",
   "execution_count": null,
   "metadata": {},
   "outputs": [],
   "source": [
    "stemmer = SnowballStemmer(language='english')\n",
    "\n",
    "for w in ['cats', 'cat', 'graduation', 'behavioural']:\n",
    "    print(f'{w:15} --stemmer--> {stemmer.stem(w)}')"
   ]
  },
  {
   "cell_type": "code",
   "execution_count": null,
   "metadata": {},
   "outputs": [],
   "source": [
    "ENGLISH_STOP_WORDS"
   ]
  },
  {
   "cell_type": "code",
   "execution_count": null,
   "metadata": {},
   "outputs": [],
   "source": [
    "def clean_text(text):\n",
    "    \"\"\"\n",
    "    text: str, returns: str\n",
    "    \"\"\"\n",
    "    text = text.lower()\n",
    "    text = re.sub('\\s+', ' ', text)\n",
    "    text = text.translate(str.maketrans('', '', string.punctuation))\n",
    "    text = ' '.join([stemmer.stem(w) for w in text.split() if w not in ENGLISH_STOP_WORDS])\n",
    "    return text\n",
    "\n",
    "sms['text'] = sms.text.apply(clean_text)"
   ]
  },
  {
   "cell_type": "code",
   "execution_count": null,
   "metadata": {},
   "outputs": [],
   "source": [
    "print(('\\n'*3).join(sms.loc[sms['label'] == 'spam'].loc[[11, 5, 123, 147, 5566]].text.tolist()))"
   ]
  },
  {
   "cell_type": "markdown",
   "metadata": {},
   "source": [
    "### Vectorization\n"
   ]
  },
  {
   "cell_type": "code",
   "execution_count": null,
   "metadata": {},
   "outputs": [],
   "source": [
    "from sklearn.svm import LinearSVC\n",
    "from sklearn.linear_model import LogisticRegression\n",
    "from sklearn.naive_bayes import BernoulliNB\n",
    "from sklearn.model_selection import train_test_split\n",
    "from sklearn.feature_extraction.text import TfidfVectorizer\n",
    "\n",
    "\n",
    "def build_tfidf(documents):\n",
    "    vectorizer = TfidfVectorizer(min_df=2)  \n",
    "    vectorizer.fit(documents)\n",
    "    return vectorizer\n",
    "\n",
    "vectorizer = build_tfidf(sms['text'])\n",
    "print('Vocabulary size =', len(vectorizer.vocabulary_))"
   ]
  },
  {
   "cell_type": "code",
   "execution_count": null,
   "metadata": {},
   "outputs": [],
   "source": [
    "transformed = vectorizer.transform([clean_text(\"\"\"FreeMsg Hey there darling it's been 3 week's now and no word back! I'd like some fun you up for it still? Tb ok! XxX std chgs to send, £1.50 to rcv\"\"\")])[0]"
   ]
  },
  {
   "cell_type": "code",
   "execution_count": null,
   "metadata": {},
   "outputs": [],
   "source": [
    "transformed[transformed.nonzero()]"
   ]
  },
  {
   "cell_type": "code",
   "execution_count": null,
   "metadata": {},
   "outputs": [],
   "source": [
    "scores = {name: [] for name in ('Logistic Regression', 'Naïve Bayes')}\n",
    "\n",
    "for split_seed in range(10):\n",
    "    X_train, X_test, y_train, y_test = train_test_split(\n",
    "        sms['text'],\n",
    "        sms['label'],\n",
    "        test_size=0.2,\n",
    "        random_state=split_seed,\n",
    "        stratify=sms['label']\n",
    "    )\n",
    "\n",
    "    vectorizer = build_tfidf(X_train)\n",
    "    X_train = vectorizer.transform(X_train)\n",
    "    X_test = vectorizer.transform(X_test)\n",
    "\n",
    "    nb = BernoulliNB().fit(X_train, y_train)\n",
    "    lr = LogisticRegression(solver='liblinear', random_state=0).fit(X_train, y_train)\n",
    "\n",
    "    scores['Logistic Regression'].append(lr.score(X_test, y_test))\n",
    "    scores['Naïve Bayes'].append(nb.score(X_test, y_test))\n",
    "\n",
    "pd.DataFrame(scores).plot(kind='box');\n",
    "plt.ylim([0.9,1])"
   ]
  },
  {
   "cell_type": "code",
   "execution_count": null,
   "metadata": {},
   "outputs": [],
   "source": []
  }
 ],
 "metadata": {
  "kernelspec": {
   "display_name": "Python 3",
   "language": "python",
   "name": "python3"
  },
  "language_info": {
   "codemirror_mode": {
    "name": "ipython",
    "version": 3
   },
   "file_extension": ".py",
   "mimetype": "text/x-python",
   "name": "python",
   "nbconvert_exporter": "python",
   "pygments_lexer": "ipython3",
   "version": "3.7.0"
  }
 },
 "nbformat": 4,
 "nbformat_minor": 2
}
