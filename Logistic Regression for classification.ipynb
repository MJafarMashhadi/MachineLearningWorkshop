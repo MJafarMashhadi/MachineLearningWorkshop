{
 "cells": [
  {
   "cell_type": "markdown",
   "metadata": {},
   "source": [
    "## Heart disease prediction\n",
    "\n",
    "In this problem you are presented with a tabular dataset with 13 attributes that are thought to be good indicators of a heart diseases. The dataset is stored in CSV format and can be found in `data/heart.csv`. This dataset originally comes from UCI and is available on [Kaggle](https://www.kaggle.com/ronitf/heart-disease-uci)\n",
    "\n",
    "### Exploring the data"
   ]
  },
  {
   "cell_type": "code",
   "execution_count": null,
   "metadata": {},
   "outputs": [],
   "source": [
    "# First we download the data to colab envirnoment\n",
    "!mkdir data\n",
    "!wget -O data/heart.csv https://raw.githubusercontent.com/MJafarMashhadi/MachineLearningWorkshop/master/data/heart.csv"
   ]
  },
  {
   "cell_type": "code",
   "execution_count": null,
   "metadata": {},
   "outputs": [],
   "source": [
    "import matplotlib.pyplot as plt\n",
    "import numpy as np\n",
    "import pandas as pd\n",
    "%matplotlib inline\n",
    "\n",
    "source_file = 'data/heart.csv'\n",
    "data = pd.read_csv(source_file)\n",
    "data"
   ]
  },
  {
   "cell_type": "code",
   "execution_count": null,
   "metadata": {},
   "outputs": [],
   "source": [
    "data.describe()"
   ]
  },
  {
   "cell_type": "code",
   "execution_count": null,
   "metadata": {},
   "outputs": [],
   "source": [
    "features, labels = data.iloc[:,:-1], data.target\n",
    "\n",
    "print(features.shape, labels.shape)  # Expected: (303, 13) (303,)"
   ]
  },
  {
   "cell_type": "markdown",
   "metadata": {},
   "source": [
    "### Splitting the data"
   ]
  },
  {
   "cell_type": "code",
   "execution_count": null,
   "metadata": {},
   "outputs": [],
   "source": [
    "from sklearn.model_selection import train_test_split\n",
    "from sklearn.linear_model import LogisticRegression\n",
    "from sklearn.neighbors import KNeighborsClassifier"
   ]
  },
  {
   "cell_type": "code",
   "execution_count": null,
   "metadata": {},
   "outputs": [],
   "source": [
    "random_seeds = range(5000,5051)\n",
    "k = 10\n",
    "\n",
    "scores = {'LR': [], 'KNN': []}\n",
    "\n",
    "for seed in random_seeds:\n",
    "    X_train, X_test, y_train, y_test = train_test_split(features, labels, test_size=0.25, random_state=seed)\n",
    "    \n",
    "    LogisReg = LogisticRegression(solver='liblinear').fit(X_train, y_train)\n",
    "    KNN = KNeighborsClassifier(n_neighbors=k).fit(X_train, y_train)\n",
    "    \n",
    "    scores['LR'].append(LogisReg.score(X_test, y_test))\n",
    "    scores['KNN'].append(KNN.score(X_test, y_test))\n",
    "\n",
    "scores = pd.DataFrame(scores)\n",
    "axis = scores.boxplot()\n",
    "axis.set_ylim([0,1]);"
   ]
  },
  {
   "cell_type": "markdown",
   "metadata": {},
   "source": [
    "### Exploring the asnwers"
   ]
  },
  {
   "cell_type": "code",
   "execution_count": null,
   "metadata": {},
   "outputs": [],
   "source": [
    "X_train, X_test, y_train, y_test = train_test_split(features, labels, test_size=0.25, random_state=5011)\n",
    "LogisReg = LogisticRegression(solver='liblinear').fit(X_train, y_train)  # Train once"
   ]
  },
  {
   "cell_type": "code",
   "execution_count": null,
   "metadata": {},
   "outputs": [],
   "source": [
    "idx = [5, 10, 15, 20, 22, 25]\n",
    "\n",
    "inspectX, inspectY = X_test.iloc[idx], y_test.iloc[idx]\n",
    "predictedY = LogisReg.predict(inspectX)\n",
    "predictedY_df = pd.DataFrame({'prediction': predictedY}, index=inspectY.index)\n",
    "\n",
    "pd.concat([inspectX, inspectY, predictedY_df], axis=1)"
   ]
  },
  {
   "cell_type": "markdown",
   "metadata": {},
   "source": [
    "### What can be improved?\n",
    "\n",
    "- Hyper parameters\n",
    "- Data normalization\n",
    "- One hot encoding of categorical data\n",
    "- Regularization (L1 for example)\n",
    "- More data?"
   ]
  },
  {
   "cell_type": "code",
   "execution_count": null,
   "metadata": {},
   "outputs": [],
   "source": []
  }
 ],
 "metadata": {
  "kernelspec": {
   "display_name": "Python 3",
   "language": "python",
   "name": "python3"
  },
  "language_info": {
   "codemirror_mode": {
    "name": "ipython",
    "version": 3
   },
   "file_extension": ".py",
   "mimetype": "text/x-python",
   "name": "python",
   "nbconvert_exporter": "python",
   "pygments_lexer": "ipython3",
   "version": "3.7.0"
  }
 },
 "nbformat": 4,
 "nbformat_minor": 2
}
